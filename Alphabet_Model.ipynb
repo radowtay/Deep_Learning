{
 "cells": [
  {
   "cell_type": "markdown",
   "metadata": {},
   "source": [
    "## Preprocessing"
   ]
  },
  {
   "cell_type": "code",
   "execution_count": 1,
   "metadata": {},
   "outputs": [
    {
     "data": {
      "text/html": [
       "<div>\n",
       "<style scoped>\n",
       "    .dataframe tbody tr th:only-of-type {\n",
       "        vertical-align: middle;\n",
       "    }\n",
       "\n",
       "    .dataframe tbody tr th {\n",
       "        vertical-align: top;\n",
       "    }\n",
       "\n",
       "    .dataframe thead th {\n",
       "        text-align: right;\n",
       "    }\n",
       "</style>\n",
       "<table border=\"1\" class=\"dataframe\">\n",
       "  <thead>\n",
       "    <tr style=\"text-align: right;\">\n",
       "      <th></th>\n",
       "      <th>EIN</th>\n",
       "      <th>NAME</th>\n",
       "      <th>APPLICATION_TYPE</th>\n",
       "      <th>AFFILIATION</th>\n",
       "      <th>CLASSIFICATION</th>\n",
       "      <th>USE_CASE</th>\n",
       "      <th>ORGANIZATION</th>\n",
       "      <th>STATUS</th>\n",
       "      <th>INCOME_AMT</th>\n",
       "      <th>SPECIAL_CONSIDERATIONS</th>\n",
       "      <th>ASK_AMT</th>\n",
       "      <th>IS_SUCCESSFUL</th>\n",
       "    </tr>\n",
       "  </thead>\n",
       "  <tbody>\n",
       "    <tr>\n",
       "      <th>0</th>\n",
       "      <td>10520599</td>\n",
       "      <td>BLUE KNIGHTS MOTORCYCLE CLUB</td>\n",
       "      <td>T10</td>\n",
       "      <td>Independent</td>\n",
       "      <td>C1000</td>\n",
       "      <td>ProductDev</td>\n",
       "      <td>Association</td>\n",
       "      <td>1</td>\n",
       "      <td>0</td>\n",
       "      <td>N</td>\n",
       "      <td>5000</td>\n",
       "      <td>1</td>\n",
       "    </tr>\n",
       "    <tr>\n",
       "      <th>1</th>\n",
       "      <td>10531628</td>\n",
       "      <td>AMERICAN CHESAPEAKE CLUB CHARITABLE TR</td>\n",
       "      <td>T3</td>\n",
       "      <td>Independent</td>\n",
       "      <td>C2000</td>\n",
       "      <td>Preservation</td>\n",
       "      <td>Co-operative</td>\n",
       "      <td>1</td>\n",
       "      <td>1-9999</td>\n",
       "      <td>N</td>\n",
       "      <td>108590</td>\n",
       "      <td>1</td>\n",
       "    </tr>\n",
       "    <tr>\n",
       "      <th>2</th>\n",
       "      <td>10547893</td>\n",
       "      <td>ST CLOUD PROFESSIONAL FIREFIGHTERS</td>\n",
       "      <td>T5</td>\n",
       "      <td>CompanySponsored</td>\n",
       "      <td>C3000</td>\n",
       "      <td>ProductDev</td>\n",
       "      <td>Association</td>\n",
       "      <td>1</td>\n",
       "      <td>0</td>\n",
       "      <td>N</td>\n",
       "      <td>5000</td>\n",
       "      <td>0</td>\n",
       "    </tr>\n",
       "    <tr>\n",
       "      <th>3</th>\n",
       "      <td>10553066</td>\n",
       "      <td>SOUTHSIDE ATHLETIC ASSOCIATION</td>\n",
       "      <td>T3</td>\n",
       "      <td>CompanySponsored</td>\n",
       "      <td>C2000</td>\n",
       "      <td>Preservation</td>\n",
       "      <td>Trust</td>\n",
       "      <td>1</td>\n",
       "      <td>10000-24999</td>\n",
       "      <td>N</td>\n",
       "      <td>6692</td>\n",
       "      <td>1</td>\n",
       "    </tr>\n",
       "    <tr>\n",
       "      <th>4</th>\n",
       "      <td>10556103</td>\n",
       "      <td>GENETIC RESEARCH INSTITUTE OF THE DESERT</td>\n",
       "      <td>T3</td>\n",
       "      <td>Independent</td>\n",
       "      <td>C1000</td>\n",
       "      <td>Heathcare</td>\n",
       "      <td>Trust</td>\n",
       "      <td>1</td>\n",
       "      <td>100000-499999</td>\n",
       "      <td>N</td>\n",
       "      <td>142590</td>\n",
       "      <td>1</td>\n",
       "    </tr>\n",
       "  </tbody>\n",
       "</table>\n",
       "</div>"
      ],
      "text/plain": [
       "        EIN                                      NAME APPLICATION_TYPE  \\\n",
       "0  10520599              BLUE KNIGHTS MOTORCYCLE CLUB              T10   \n",
       "1  10531628    AMERICAN CHESAPEAKE CLUB CHARITABLE TR               T3   \n",
       "2  10547893        ST CLOUD PROFESSIONAL FIREFIGHTERS               T5   \n",
       "3  10553066            SOUTHSIDE ATHLETIC ASSOCIATION               T3   \n",
       "4  10556103  GENETIC RESEARCH INSTITUTE OF THE DESERT               T3   \n",
       "\n",
       "        AFFILIATION CLASSIFICATION      USE_CASE  ORGANIZATION  STATUS  \\\n",
       "0       Independent          C1000    ProductDev   Association       1   \n",
       "1       Independent          C2000  Preservation  Co-operative       1   \n",
       "2  CompanySponsored          C3000    ProductDev   Association       1   \n",
       "3  CompanySponsored          C2000  Preservation         Trust       1   \n",
       "4       Independent          C1000     Heathcare         Trust       1   \n",
       "\n",
       "      INCOME_AMT SPECIAL_CONSIDERATIONS  ASK_AMT  IS_SUCCESSFUL  \n",
       "0              0                      N     5000              1  \n",
       "1         1-9999                      N   108590              1  \n",
       "2              0                      N     5000              0  \n",
       "3    10000-24999                      N     6692              1  \n",
       "4  100000-499999                      N   142590              1  "
      ]
     },
     "execution_count": 1,
     "metadata": {},
     "output_type": "execute_result"
    }
   ],
   "source": [
    "# Import our dependencies\n",
    "from sklearn.model_selection import train_test_split\n",
    "from sklearn.preprocessing import StandardScaler\n",
    "import pandas as pd\n",
    "import tensorflow as tf\n",
    "\n",
    "#  Import and read the charity_data.csv.\n",
    "import pandas as pd \n",
    "application_df = pd.read_csv(\"Resources/charity_data.csv\")\n",
    "application_df.head()"
   ]
  },
  {
   "cell_type": "code",
   "execution_count": 2,
   "metadata": {},
   "outputs": [],
   "source": [
    "# Drop the non-beneficial ID columns, 'EIN' and 'NAME'.\n",
    "application_df = application_df.drop([\"EIN\", \"NAME\", \"USE_CASE\",],1)"
   ]
  },
  {
   "cell_type": "code",
   "execution_count": 3,
   "metadata": {},
   "outputs": [
    {
     "data": {
      "text/plain": [
       "APPLICATION_TYPE            17\n",
       "AFFILIATION                  6\n",
       "CLASSIFICATION              71\n",
       "ORGANIZATION                 4\n",
       "STATUS                       2\n",
       "INCOME_AMT                   9\n",
       "SPECIAL_CONSIDERATIONS       2\n",
       "ASK_AMT                   8747\n",
       "IS_SUCCESSFUL                2\n",
       "dtype: int64"
      ]
     },
     "execution_count": 3,
     "metadata": {},
     "output_type": "execute_result"
    }
   ],
   "source": [
    "# Determine the number of unique values in each column.\n",
    "application_df.nunique()"
   ]
  },
  {
   "cell_type": "code",
   "execution_count": 4,
   "metadata": {},
   "outputs": [
    {
     "data": {
      "text/plain": [
       "T3     27037\n",
       "T4      1542\n",
       "T6      1216\n",
       "T5      1173\n",
       "T19     1065\n",
       "T8       737\n",
       "T7       725\n",
       "T10      528\n",
       "T9       156\n",
       "T13       66\n",
       "T12       27\n",
       "T2        16\n",
       "T14        3\n",
       "T25        3\n",
       "T15        2\n",
       "T29        2\n",
       "T17        1\n",
       "Name: APPLICATION_TYPE, dtype: int64"
      ]
     },
     "execution_count": 4,
     "metadata": {},
     "output_type": "execute_result"
    }
   ],
   "source": [
    "# Look at APPLICATION_TYPE value counts for binning\n",
    "app_values = application_df[\"APPLICATION_TYPE\"].value_counts()\n",
    "app_values"
   ]
  },
  {
   "cell_type": "code",
   "execution_count": 5,
   "metadata": {},
   "outputs": [
    {
     "data": {
      "text/plain": [
       "T3       27037\n",
       "Other     2266\n",
       "T4        1542\n",
       "T6        1216\n",
       "T5        1173\n",
       "T19       1065\n",
       "Name: APPLICATION_TYPE, dtype: int64"
      ]
     },
     "execution_count": 5,
     "metadata": {},
     "output_type": "execute_result"
    }
   ],
   "source": [
    "# Choose a cutoff value and create a list of application types to be replaced\n",
    "# use the variable name `application_types_to_replace`\n",
    "application_types_to_replace = list(app_values[app_values < 950].index)\n",
    "\n",
    "# Replace in dataframe\n",
    "for app in application_types_to_replace:\n",
    "    application_df['APPLICATION_TYPE'] = application_df['APPLICATION_TYPE'].replace(app,\"Other\")\n",
    "\n",
    "# Check to make sure binning was successful\n",
    "application_df['APPLICATION_TYPE'].value_counts()"
   ]
  },
  {
   "cell_type": "code",
   "execution_count": 6,
   "metadata": {},
   "outputs": [
    {
     "data": {
      "text/plain": [
       "C1000    17326\n",
       "C2000     6074\n",
       "C1200     4837\n",
       "C3000     1918\n",
       "C2100     1883\n",
       "         ...  \n",
       "C2600        1\n",
       "C2170        1\n",
       "C5200        1\n",
       "C1236        1\n",
       "C2570        1\n",
       "Name: CLASSIFICATION, Length: 71, dtype: int64"
      ]
     },
     "execution_count": 6,
     "metadata": {},
     "output_type": "execute_result"
    }
   ],
   "source": [
    "# Look at CLASSIFICATION value counts for binning\n",
    "app_class = application_df[\"CLASSIFICATION\"].value_counts()\n",
    "app_class"
   ]
  },
  {
   "cell_type": "code",
   "execution_count": 7,
   "metadata": {},
   "outputs": [
    {
     "data": {
      "text/plain": [
       "C1000    17326\n",
       "C2000     6074\n",
       "C1200     4837\n",
       "C3000     1918\n",
       "C2100     1883\n",
       "C7000      777\n",
       "C1700      287\n",
       "C4000      194\n",
       "C5000      116\n",
       "C1270      114\n",
       "C2700      104\n",
       "C2800       95\n",
       "C7100       75\n",
       "C1300       58\n",
       "C1280       50\n",
       "C1230       36\n",
       "C1400       34\n",
       "C7200       32\n",
       "C2300       32\n",
       "C1240       30\n",
       "C8000       20\n",
       "C7120       18\n",
       "C1500       16\n",
       "C6000       15\n",
       "C1800       15\n",
       "C1250       14\n",
       "C8200       11\n",
       "C1238       10\n",
       "C1278       10\n",
       "C1237        9\n",
       "C1235        9\n",
       "C7210        7\n",
       "C2400        6\n",
       "C4100        6\n",
       "C1720        6\n",
       "C1257        5\n",
       "C1600        5\n",
       "C0           3\n",
       "C1260        3\n",
       "C2710        3\n",
       "C1267        2\n",
       "C1256        2\n",
       "C3200        2\n",
       "C1234        2\n",
       "C1246        2\n",
       "Name: CLASSIFICATION, dtype: int64"
      ]
     },
     "execution_count": 7,
     "metadata": {},
     "output_type": "execute_result"
    }
   ],
   "source": [
    "# You may find it helpful to look at CLASSIFICATION value counts >1\n",
    "app_class[app_class > 1]"
   ]
  },
  {
   "cell_type": "code",
   "execution_count": 8,
   "metadata": {},
   "outputs": [
    {
     "data": {
      "text/plain": [
       "C1000    17326\n",
       "C2000     6074\n",
       "C1200     4837\n",
       "Other     2261\n",
       "C3000     1918\n",
       "C2100     1883\n",
       "Name: CLASSIFICATION, dtype: int64"
      ]
     },
     "execution_count": 8,
     "metadata": {},
     "output_type": "execute_result"
    }
   ],
   "source": [
    "# Choose a cutoff value and create a list of classifications to be replaced\n",
    "# use the variable name `classifications_to_replace`\n",
    "classifications_to_replace = list(app_class[app_class < 950].index)\n",
    "\n",
    "# Replace in dataframe\n",
    "for cls in classifications_to_replace:\n",
    "    application_df['CLASSIFICATION'] = application_df['CLASSIFICATION'].replace(cls,\"Other\")\n",
    "    \n",
    "# Check to make sure binning was successful\n",
    "application_df['CLASSIFICATION'].value_counts()"
   ]
  },
  {
   "cell_type": "code",
   "execution_count": 9,
   "metadata": {},
   "outputs": [],
   "source": [
    "# Convert categorical data to numeric with `pd.get_dummies`\n",
    "features = pd.get_dummies(application_df)"
   ]
  },
  {
   "cell_type": "code",
   "execution_count": 10,
   "metadata": {},
   "outputs": [],
   "source": [
    "# Split our preprocessed data into our features and target arrays\n",
    "X = features.drop(\"IS_SUCCESSFUL\", axis=\"columns\")\n",
    "y = features[\"IS_SUCCESSFUL\"]\n",
    "\n",
    "# Split the preprocessed data into a training and testing dataset\n",
    "X_train, X_test, y_train, y_test = train_test_split(X, y, random_state=42)"
   ]
  },
  {
   "cell_type": "code",
   "execution_count": 11,
   "metadata": {},
   "outputs": [],
   "source": [
    "# Create a StandardScaler instances\n",
    "scaler = StandardScaler()\n",
    "\n",
    "# Fit the StandardScaler\n",
    "X_scaler = scaler.fit(X_train)\n",
    "\n",
    "# Scale the data\n",
    "X_train_scaled = X_scaler.transform(X_train)\n",
    "X_test_scaled = X_scaler.transform(X_test)"
   ]
  },
  {
   "cell_type": "markdown",
   "metadata": {},
   "source": [
    "## Compile, Train and Evaluate the Model"
   ]
  },
  {
   "cell_type": "code",
   "execution_count": 12,
   "metadata": {},
   "outputs": [
    {
     "name": "stdout",
     "output_type": "stream",
     "text": [
      "Model: \"sequential\"\n",
      "_________________________________________________________________\n",
      "Layer (type)                 Output Shape              Param #   \n",
      "=================================================================\n",
      "dense (Dense)                (None, 550)               19800     \n",
      "_________________________________________________________________\n",
      "dense_1 (Dense)              (None, 550)               303050    \n",
      "_________________________________________________________________\n",
      "dense_2 (Dense)              (None, 550)               303050    \n",
      "_________________________________________________________________\n",
      "dense_3 (Dense)              (None, 1)                 551       \n",
      "=================================================================\n",
      "Total params: 626,451\n",
      "Trainable params: 626,451\n",
      "Non-trainable params: 0\n",
      "_________________________________________________________________\n"
     ]
    }
   ],
   "source": [
    "# Define the model - deep neural net, i.e., the number of input features and hidden nodes for each layer.\n",
    "#attempted 100\n",
    "#attempted 250\n",
    "#added 3rd layer, attempting 375\n",
    "#attempting 450\n",
    "#attempting 550\n",
    "\n",
    "hidden_layer1 = 550\n",
    "hidden_layer2 = 550\n",
    "hidden_layer3 = 550\n",
    "no_features = len(X_train.columns)\n",
    "\n",
    "nn = tf.keras.models.Sequential()\n",
    "\n",
    "# First hidden layer\n",
    "nn.add(tf.keras.layers.Dense(units=hidden_layer1, input_dim=no_features, activation=\"relu\"))\n",
    "\n",
    "# Second hidden layer\n",
    "nn.add(tf.keras.layers.Dense(units=hidden_layer2, activation=\"relu\"))\n",
    "\n",
    "nn.add(tf.keras.layers.Dense(units=hidden_layer3, activation=\"relu\"))\n",
    "\n",
    "# Output layer\n",
    "nn.add(tf.keras.layers.Dense(units=1, activation=\"sigmoid\"))\n",
    "\n",
    "# Check the structure of the model\n",
    "nn.summary()"
   ]
  },
  {
   "cell_type": "code",
   "execution_count": 13,
   "metadata": {},
   "outputs": [],
   "source": [
    "# Compile the model\n",
    "nn.compile(loss=\"binary_crossentropy\", optimizer=\"adam\", metrics=[\"accuracy\"])"
   ]
  },
  {
   "cell_type": "code",
   "execution_count": 14,
   "metadata": {},
   "outputs": [
    {
     "name": "stdout",
     "output_type": "stream",
     "text": [
      "Epoch 1/75\n",
      "804/804 [==============================] - 6s 7ms/step - loss: 0.5758 - accuracy: 0.7184\n",
      "Epoch 2/75\n",
      "804/804 [==============================] - 6s 7ms/step - loss: 0.5629 - accuracy: 0.7223\n",
      "Epoch 3/75\n",
      "804/804 [==============================] - 6s 7ms/step - loss: 0.5615 - accuracy: 0.7243\n",
      "Epoch 4/75\n",
      "804/804 [==============================] - 6s 7ms/step - loss: 0.5598 - accuracy: 0.7250\n",
      "Epoch 5/75\n",
      "804/804 [==============================] - 6s 7ms/step - loss: 0.5592 - accuracy: 0.7267\n",
      "Epoch 6/75\n",
      "804/804 [==============================] - 6s 7ms/step - loss: 0.5580 - accuracy: 0.7276\n",
      "Epoch 7/75\n",
      "804/804 [==============================] - 6s 8ms/step - loss: 0.5581 - accuracy: 0.7270\n",
      "Epoch 8/75\n",
      "804/804 [==============================] - 6s 7ms/step - loss: 0.5568 - accuracy: 0.7283\n",
      "Epoch 9/75\n",
      "804/804 [==============================] - 6s 7ms/step - loss: 0.5569 - accuracy: 0.7276\n",
      "Epoch 10/75\n",
      "804/804 [==============================] - 6s 7ms/step - loss: 0.5561 - accuracy: 0.7269\n",
      "Epoch 11/75\n",
      "804/804 [==============================] - 6s 7ms/step - loss: 0.5558 - accuracy: 0.7282\n",
      "Epoch 12/75\n",
      "804/804 [==============================] - 6s 7ms/step - loss: 0.5549 - accuracy: 0.7282\n",
      "Epoch 13/75\n",
      "804/804 [==============================] - 6s 7ms/step - loss: 0.5547 - accuracy: 0.7278\n",
      "Epoch 14/75\n",
      "804/804 [==============================] - 6s 7ms/step - loss: 0.5544 - accuracy: 0.7292\n",
      "Epoch 15/75\n",
      "804/804 [==============================] - 6s 7ms/step - loss: 0.5542 - accuracy: 0.7294\n",
      "Epoch 16/75\n",
      "804/804 [==============================] - 6s 7ms/step - loss: 0.5540 - accuracy: 0.7277\n",
      "Epoch 17/75\n",
      "804/804 [==============================] - 6s 7ms/step - loss: 0.5534 - accuracy: 0.7290\n",
      "Epoch 18/75\n",
      "804/804 [==============================] - 6s 7ms/step - loss: 0.5534 - accuracy: 0.7295\n",
      "Epoch 19/75\n",
      "804/804 [==============================] - 6s 7ms/step - loss: 0.5533 - accuracy: 0.7292\n",
      "Epoch 20/75\n",
      "804/804 [==============================] - 6s 7ms/step - loss: 0.5533 - accuracy: 0.7296\n",
      "Epoch 21/75\n",
      "804/804 [==============================] - 6s 7ms/step - loss: 0.5525 - accuracy: 0.7297\n",
      "Epoch 22/75\n",
      "804/804 [==============================] - 6s 7ms/step - loss: 0.5521 - accuracy: 0.7298\n",
      "Epoch 23/75\n",
      "804/804 [==============================] - 6s 7ms/step - loss: 0.5521 - accuracy: 0.7297\n",
      "Epoch 24/75\n",
      "804/804 [==============================] - 6s 7ms/step - loss: 0.5519 - accuracy: 0.7303\n",
      "Epoch 25/75\n",
      "804/804 [==============================] - 6s 7ms/step - loss: 0.5518 - accuracy: 0.7295\n",
      "Epoch 26/75\n",
      "804/804 [==============================] - 6s 7ms/step - loss: 0.5515 - accuracy: 0.7300\n",
      "Epoch 27/75\n",
      "804/804 [==============================] - 6s 7ms/step - loss: 0.5517 - accuracy: 0.7302\n",
      "Epoch 28/75\n",
      "804/804 [==============================] - 6s 7ms/step - loss: 0.5513 - accuracy: 0.7303\n",
      "Epoch 29/75\n",
      "804/804 [==============================] - 6s 7ms/step - loss: 0.5512 - accuracy: 0.7299\n",
      "Epoch 30/75\n",
      "804/804 [==============================] - 6s 7ms/step - loss: 0.5516 - accuracy: 0.7304\n",
      "Epoch 31/75\n",
      "804/804 [==============================] - 6s 7ms/step - loss: 0.5506 - accuracy: 0.7299\n",
      "Epoch 32/75\n",
      "804/804 [==============================] - 6s 7ms/step - loss: 0.5501 - accuracy: 0.7301\n",
      "Epoch 33/75\n",
      "804/804 [==============================] - 6s 7ms/step - loss: 0.5508 - accuracy: 0.7303\n",
      "Epoch 34/75\n",
      "804/804 [==============================] - 6s 8ms/step - loss: 0.5496 - accuracy: 0.7306\n",
      "Epoch 35/75\n",
      "804/804 [==============================] - 6s 8ms/step - loss: 0.5493 - accuracy: 0.7310\n",
      "Epoch 36/75\n",
      "804/804 [==============================] - 6s 7ms/step - loss: 0.5502 - accuracy: 0.7307\n",
      "Epoch 37/75\n",
      "804/804 [==============================] - 6s 7ms/step - loss: 0.5499 - accuracy: 0.7306\n",
      "Epoch 38/75\n",
      "804/804 [==============================] - 6s 7ms/step - loss: 0.5499 - accuracy: 0.7304\n",
      "Epoch 39/75\n",
      "804/804 [==============================] - 6s 7ms/step - loss: 0.5501 - accuracy: 0.7308\n",
      "Epoch 40/75\n",
      "804/804 [==============================] - 6s 7ms/step - loss: 0.5495 - accuracy: 0.7307\n",
      "Epoch 41/75\n",
      "804/804 [==============================] - 6s 7ms/step - loss: 0.5496 - accuracy: 0.7311\n",
      "Epoch 42/75\n",
      "804/804 [==============================] - 6s 7ms/step - loss: 0.5484 - accuracy: 0.7316\n",
      "Epoch 43/75\n",
      "804/804 [==============================] - 6s 7ms/step - loss: 0.5486 - accuracy: 0.7314\n",
      "Epoch 44/75\n",
      "804/804 [==============================] - 6s 7ms/step - loss: 0.5495 - accuracy: 0.7310\n",
      "Epoch 45/75\n",
      "804/804 [==============================] - 6s 7ms/step - loss: 0.5569 - accuracy: 0.7309\n",
      "Epoch 46/75\n",
      "804/804 [==============================] - 6s 7ms/step - loss: 0.5486 - accuracy: 0.7316\n",
      "Epoch 47/75\n",
      "804/804 [==============================] - 6s 7ms/step - loss: 0.5478 - accuracy: 0.7314\n",
      "Epoch 48/75\n",
      "804/804 [==============================] - 6s 7ms/step - loss: 0.5478 - accuracy: 0.7315\n",
      "Epoch 49/75\n",
      "804/804 [==============================] - 6s 7ms/step - loss: 0.5492 - accuracy: 0.7318\n",
      "Epoch 50/75\n",
      "804/804 [==============================] - 6s 7ms/step - loss: 0.5488 - accuracy: 0.7315\n",
      "Epoch 51/75\n",
      "804/804 [==============================] - 6s 7ms/step - loss: 0.5477 - accuracy: 0.7319\n",
      "Epoch 52/75\n",
      "804/804 [==============================] - 6s 7ms/step - loss: 0.5487 - accuracy: 0.7310\n",
      "Epoch 53/75\n",
      "804/804 [==============================] - 6s 7ms/step - loss: 0.5476 - accuracy: 0.7319\n",
      "Epoch 54/75\n",
      "804/804 [==============================] - 6s 7ms/step - loss: 0.5477 - accuracy: 0.7312\n",
      "Epoch 55/75\n",
      "804/804 [==============================] - 6s 7ms/step - loss: 0.5477 - accuracy: 0.7315\n",
      "Epoch 56/75\n",
      "804/804 [==============================] - 6s 7ms/step - loss: 0.5495 - accuracy: 0.7317\n",
      "Epoch 57/75\n",
      "804/804 [==============================] - 6s 7ms/step - loss: 0.5478 - accuracy: 0.7313\n",
      "Epoch 58/75\n",
      "804/804 [==============================] - 6s 7ms/step - loss: 0.5473 - accuracy: 0.7321\n",
      "Epoch 59/75\n",
      "804/804 [==============================] - 6s 7ms/step - loss: 0.5480 - accuracy: 0.7313\n",
      "Epoch 60/75\n",
      "804/804 [==============================] - 6s 7ms/step - loss: 0.5482 - accuracy: 0.7317\n",
      "Epoch 61/75\n",
      "804/804 [==============================] - 6s 7ms/step - loss: 0.5479 - accuracy: 0.7313\n",
      "Epoch 62/75\n",
      "804/804 [==============================] - 6s 7ms/step - loss: 0.5475 - accuracy: 0.7312\n",
      "Epoch 63/75\n",
      "804/804 [==============================] - 6s 7ms/step - loss: 0.5489 - accuracy: 0.7319\n",
      "Epoch 64/75\n",
      "804/804 [==============================] - 6s 7ms/step - loss: 0.5473 - accuracy: 0.7307\n",
      "Epoch 65/75\n",
      "804/804 [==============================] - 6s 7ms/step - loss: 0.5466 - accuracy: 0.7319\n",
      "Epoch 66/75\n",
      "804/804 [==============================] - 6s 7ms/step - loss: 0.5468 - accuracy: 0.7323\n",
      "Epoch 67/75\n",
      "804/804 [==============================] - 6s 7ms/step - loss: 0.5479 - accuracy: 0.7315\n",
      "Epoch 68/75\n",
      "804/804 [==============================] - 6s 7ms/step - loss: 0.5466 - accuracy: 0.7323\n",
      "Epoch 69/75\n",
      "804/804 [==============================] - 6s 7ms/step - loss: 0.5469 - accuracy: 0.7323\n",
      "Epoch 70/75\n",
      "804/804 [==============================] - 6s 8ms/step - loss: 0.5476 - accuracy: 0.7318\n",
      "Epoch 71/75\n",
      "804/804 [==============================] - 6s 8ms/step - loss: 0.5470 - accuracy: 0.7323\n",
      "Epoch 72/75\n",
      "804/804 [==============================] - 6s 8ms/step - loss: 0.5467 - accuracy: 0.7318\n",
      "Epoch 73/75\n",
      "804/804 [==============================] - 6s 8ms/step - loss: 0.5473 - accuracy: 0.7325\n",
      "Epoch 74/75\n",
      "804/804 [==============================] - 6s 8ms/step - loss: 0.5467 - accuracy: 0.7319\n",
      "Epoch 75/75\n",
      "804/804 [==============================] - 6s 8ms/step - loss: 0.5464 - accuracy: 0.7326\n"
     ]
    }
   ],
   "source": [
    "# Train the model\n",
    "fit_model = nn.fit(X_train_scaled,y_train,epochs=75)"
   ]
  },
  {
   "cell_type": "code",
   "execution_count": null,
   "metadata": {},
   "outputs": [],
   "source": [
    "#Attempt:\n",
    "#-2 hidden layers @ 100, 100 epochs\n",
    "#-2 hidden layers @ 250, 100 epochs (computer did not appreciate)\n",
    "#-3 hidden layers @ 375, 60 epochs\n",
    "#-3 hidden layers @ 450, 75 epochs\n",
    "#-3 hidden layers @ 550, 75 epochs"
   ]
  },
  {
   "cell_type": "code",
   "execution_count": 15,
   "metadata": {},
   "outputs": [
    {
     "name": "stdout",
     "output_type": "stream",
     "text": [
      "268/268 - 1s - loss: 0.5994 - accuracy: 0.7250\n",
      "Loss: 0.5994295477867126, Accuracy: 0.7250145673751831\n"
     ]
    }
   ],
   "source": [
    "# Evaluate the model using the test data\n",
    "model_loss, model_accuracy = nn.evaluate(X_test_scaled,y_test,verbose=2)\n",
    "print(f\"Loss: {model_loss}, Accuracy: {model_accuracy}\")"
   ]
  },
  {
   "cell_type": "code",
   "execution_count": 16,
   "metadata": {},
   "outputs": [],
   "source": [
    "# Export our model to HDF5 file\n",
    "nn.save(\"AlphabetSoupCharity.h5\")"
   ]
  },
  {
   "cell_type": "markdown",
   "metadata": {},
   "source": [
    "I was not able to achieve a greater accuracy than 73% even after multiple adjustments to hidden node layers, removing another column, and changing the number of epochs.  I did not feel that I had enough understanding to adjust further variables in this data without removing something important.  The purpose of this notebook was to predict whether applicants to a charity, Alphabet Soup, would be successfully funded, however unfortunately we were not able to reach the required 75% accuraccy."
   ]
  }
 ],
 "metadata": {
  "interpreter": {
   "hash": "fa3a089d59986fe19d48f7ae7f5dd03ba8dfcc327ad2631c963546397605535a"
  },
  "kernelspec": {
   "display_name": "Python 3.6.10 ('PythonData')",
   "language": "python",
   "name": "python3"
  },
  "language_info": {
   "codemirror_mode": {
    "name": "ipython",
    "version": 3
   },
   "file_extension": ".py",
   "mimetype": "text/x-python",
   "name": "python",
   "nbconvert_exporter": "python",
   "pygments_lexer": "ipython3",
   "version": "3.6.10"
  }
 },
 "nbformat": 4,
 "nbformat_minor": 4
}
